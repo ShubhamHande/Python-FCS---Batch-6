{
 "cells": [
  {
   "cell_type": "code",
   "execution_count": 4,
   "metadata": {},
   "outputs": [
    {
     "name": "stdout",
     "output_type": "stream",
     "text": [
      "enter the number : 10\n",
      "0\n",
      "1\n",
      "3\n",
      "6\n",
      "10\n",
      "15\n",
      "21\n",
      "28\n",
      "36\n",
      "45\n",
      "55\n",
      "sum of numbers is 55\n"
     ]
    }
   ],
   "source": [
    "## Question 1\n",
    "#Sum of n numbers using while loop\n",
    "n = int(input(\"enter the number : \"))\n",
    "sum = 0\n",
    "i = 0\n",
    "while i <= n:\n",
    "    sum = sum + i\n",
    "    i = i + 1\n",
    "    print(sum)\n",
    "print(\"sum of numbers is\", sum)"
   ]
  },
  {
   "cell_type": "code",
   "execution_count": 1,
   "metadata": {},
   "outputs": [
    {
     "name": "stdout",
     "output_type": "stream",
     "text": [
      "Enter A No.:21\n",
      " 21 is not a Prime Number\n"
     ]
    }
   ],
   "source": [
    "## Question 2\n",
    "#Take a integer and find prime or not\n",
    "\n",
    "num = int(input(\"Enter A No.:\"))\n",
    "count = 0\n",
    "i= 2\n",
    "while (i<=num//2):\n",
    "    if(num%i == 0):\n",
    "        count = count + 1\n",
    "        break\n",
    "    i = i + 1\n",
    "\n",
    "if (count == 0 and num != 1):\n",
    "    print(\" %d is a Prime Number\" %num)\n",
    "else:\n",
    "    print(\" %d is not a Prime Number\" %num)"
   ]
  },
  {
   "cell_type": "code",
   "execution_count": null,
   "metadata": {},
   "outputs": [],
   "source": []
  }
 ],
 "metadata": {
  "kernelspec": {
   "display_name": "Python 3",
   "language": "python",
   "name": "python3"
  },
  "language_info": {
   "codemirror_mode": {
    "name": "ipython",
    "version": 3
   },
   "file_extension": ".py",
   "mimetype": "text/x-python",
   "name": "python",
   "nbconvert_exporter": "python",
   "pygments_lexer": "ipython3",
   "version": "3.7.6"
  }
 },
 "nbformat": 4,
 "nbformat_minor": 4
}
